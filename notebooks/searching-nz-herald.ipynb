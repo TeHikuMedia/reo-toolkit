{
 "cells": [
  {
   "cell_type": "markdown",
   "metadata": {},
   "source": [
    "# Searching for Māori language text in the NZ Herald archives"
   ]
  },
  {
   "cell_type": "markdown",
   "metadata": {},
   "source": [
    "I have collected about 450,000 NZ Herald articles. We want to search them for māori words to see how the use of Te Reo Māori in the NZ Herald has changed over time."
   ]
  },
  {
   "cell_type": "code",
   "execution_count": 14,
   "metadata": {},
   "outputs": [],
   "source": [
    "import re\n",
    "import jsonlines\n",
    "import numpy as np\n",
    "import pandas as pd\n",
    "import matplotlib.pyplot as plt\n",
    "%matplotlib inline\n",
    "\n",
    "pd.set_option('display.max_rows', 500)\n",
    "\n",
    "from utils import parallel_process\n",
    "from multiprocessing import cpu_count\n",
    "from nltk.tokenize import word_tokenize\n",
    "\n",
    "from reo_toolkit import is_maori, vowels, consonants, ambiguous"
   ]
  },
  {
   "cell_type": "code",
   "execution_count": 15,
   "metadata": {},
   "outputs": [],
   "source": [
    "nzherald = []\n",
    "with jsonlines.open('../data/nzherald.json') as reader:\n",
    "    for obj in reader:\n",
    "        nzherald.append(obj)"
   ]
  },
  {
   "cell_type": "code",
   "execution_count": 16,
   "metadata": {},
   "outputs": [
    {
     "data": {
      "text/plain": [
       "{'url': 'https://www.nzherald.co.nz/nz/news/article.cfm?c_id=1&objectid=12329090',\n",
       " 'byline': None,\n",
       " 'date': '2 May, 2020 12:44pm',\n",
       " 'headline': [' Six more Covid-19 cases; Chch man dies of coronavirus  '],\n",
       " 'sponsor': [],\n",
       " 'subheader': ['The latest Covid-19 victim will be remembered as '],\n",
       " 'syndicator_name': ['NZ Herald'],\n",
       " 'paragraphs': [' There are six new cases of Covid-19 today and the Ministry of Health reports that another person has died of coronavirus.',\n",
       "  \" George Hollings, a Rosewood Rest Home resident in his 80s, died in Christchurch's Burwood Hospital of the virus early this morning.\",\n",
       "  ' \"George had a lot of friends who the family don\\'t have contact details for and they\\'d like for them to have the opportunity to grieve along with his family,\" the Ministry of Health says.',\n",
       "  ' ',\n",
       "  '\"His family tell us that George will be remembered as a real Kiwi bloke, a rough diamond, who loved his deer stalking,\" it said.',\n",
       "  ' Hollings\\' family, in a statement to health officials, said: \"We can\\'t speak highly enough of the care Dad received. You\\'ve clearly chosen the best, most compassionate staff to work at Burwood\".',\n",
       "  ' \"George was considered to be a probable case of COVID-19, and he also had underlying health conditions,\" the Ministry said.',\n",
       "  ' There are now 20 people who have died from Covid-19 in New Zealand.',\n",
       "  ' \"Every person we lose to COVID-19 is a tragedy, with a family and friends left without their loved one. Our thoughts are with George\\'s family today and in the coming days,\" the Ministry said.',\n",
       "  ' ',\n",
       "  \" Five of today's cases can be traced to a known source, the Ministry says.\",\n",
       "  ' Three of the cases were under Auckland District Health Board (DHB), two in Waitematā DHB and one in Canterbury.',\n",
       "  ' One case is still being investigated. The total of confirmed and probable cases is 1,485.',\n",
       "  \" Of New Zealand's cases, 1,263 are reported as recovered – an increase of 11 on yesterday.\",\n",
       "  ' Eighty five per cent of all confirmed and probable cases have now recovered.',\n",
       "  ' There are five people in hospital, and none in ICU.',\n",
       "  ' \"Three clusters are now considered closed as there is no longer transmission of the virus associated with the cluster. A COVID-19 cluster is considered be closed after a total of 28 consecutive days – or two incubation periods for the virus – since its',\n",
       "  'most recent report date of a reported case,\" the Ministry said.',\n",
       "  ' A cluster linked to a Wellington wedding and two clusters linked to US travel (one in Wellington another in Auckland) closed today.',\n",
       "  ' ',\n",
       "  '• ']}"
      ]
     },
     "execution_count": 16,
     "metadata": {},
     "output_type": "execute_result"
    }
   ],
   "source": [
    "nzherald[0]"
   ]
  },
  {
   "cell_type": "code",
   "execution_count": 17,
   "metadata": {},
   "outputs": [],
   "source": [
    "herald_data = pd.DataFrame(nzherald)"
   ]
  },
  {
   "cell_type": "code",
   "execution_count": 18,
   "metadata": {},
   "outputs": [],
   "source": [
    "herald_data['paragraphs'] = herald_data.paragraphs.apply(lambda x: '\\n'.join([s.strip() for s in x]).strip())"
   ]
  },
  {
   "cell_type": "code",
   "execution_count": 19,
   "metadata": {},
   "outputs": [],
   "source": [
    "herald_data['byline'] = herald_data.byline.apply(lambda x: '\\n'.join([s.strip() for s in x]).strip() if x else '')"
   ]
  },
  {
   "cell_type": "code",
   "execution_count": 20,
   "metadata": {},
   "outputs": [],
   "source": [
    "herald_data['headline'] = (herald_data.headline\n",
    "    .apply(lambda x: re.sub('\\s{2,}', ' ', ' '.join([s.strip() for s in x]).strip()))\n",
    ")"
   ]
  },
  {
   "cell_type": "code",
   "execution_count": 21,
   "metadata": {},
   "outputs": [],
   "source": [
    "herald_data['subheader'] = herald_data.subheader.apply(lambda x: ' '.join(set(x)))"
   ]
  },
  {
   "cell_type": "code",
   "execution_count": 22,
   "metadata": {},
   "outputs": [],
   "source": [
    "herald_data['sponsor'] = herald_data.sponsor.apply(lambda x: ''.join(x))"
   ]
  },
  {
   "cell_type": "code",
   "execution_count": 23,
   "metadata": {},
   "outputs": [],
   "source": [
    "herald_data['syndicator_name'] = herald_data.syndicator_name.apply(lambda x: ''.join(x))"
   ]
  },
  {
   "cell_type": "code",
   "execution_count": 24,
   "metadata": {},
   "outputs": [
    {
     "data": {
      "text/html": [
       "<div>\n",
       "<style scoped>\n",
       "    .dataframe tbody tr th:only-of-type {\n",
       "        vertical-align: middle;\n",
       "    }\n",
       "\n",
       "    .dataframe tbody tr th {\n",
       "        vertical-align: top;\n",
       "    }\n",
       "\n",
       "    .dataframe thead th {\n",
       "        text-align: right;\n",
       "    }\n",
       "</style>\n",
       "<table border=\"1\" class=\"dataframe\">\n",
       "  <thead>\n",
       "    <tr style=\"text-align: right;\">\n",
       "      <th></th>\n",
       "      <th>url</th>\n",
       "      <th>byline</th>\n",
       "      <th>date</th>\n",
       "      <th>headline</th>\n",
       "      <th>sponsor</th>\n",
       "      <th>subheader</th>\n",
       "      <th>syndicator_name</th>\n",
       "      <th>paragraphs</th>\n",
       "    </tr>\n",
       "  </thead>\n",
       "  <tbody>\n",
       "    <tr>\n",
       "      <th>0</th>\n",
       "      <td>https://www.nzherald.co.nz/nz/news/article.cfm...</td>\n",
       "      <td></td>\n",
       "      <td>2 May, 2020 12:44pm</td>\n",
       "      <td>Six more Covid-19 cases; Chch man dies of coro...</td>\n",
       "      <td></td>\n",
       "      <td>The latest Covid-19 victim will be remembered as</td>\n",
       "      <td>NZ Herald</td>\n",
       "      <td>There are six new cases of Covid-19 today and ...</td>\n",
       "    </tr>\n",
       "    <tr>\n",
       "      <th>1</th>\n",
       "      <td>https://www.nzherald.co.nz/business/news/artic...</td>\n",
       "      <td>By: Keith Bradsher</td>\n",
       "      <td>29 Apr, 2020 9:48am</td>\n",
       "      <td>Covid 19 coronavirus: China's factories are ba...</td>\n",
       "      <td></td>\n",
       "      <td>New York Times: Manufacturing giant once again...</td>\n",
       "      <td>New York Times</td>\n",
       "      <td>An unemployed young college graduate has stopp...</td>\n",
       "    </tr>\n",
       "    <tr>\n",
       "      <th>2</th>\n",
       "      <td>https://www.nzherald.co.nz/business/news/artic...</td>\n",
       "      <td>By: The editorial board</td>\n",
       "      <td>29 Apr, 2020 10:54am</td>\n",
       "      <td>Covid 19 coronavirus: Antivirus fight takes a ...</td>\n",
       "      <td></td>\n",
       "      <td>Financial Times: Furlough schemes will not be ...</td>\n",
       "      <td>Financial Times</td>\n",
       "      <td>The Black Death is often credited with transfo...</td>\n",
       "    </tr>\n",
       "    <tr>\n",
       "      <th>3</th>\n",
       "      <td>https://www.nzherald.co.nz/business/news/artic...</td>\n",
       "      <td>By: David Fisher   Senior writer, NZ Herald da...</td>\n",
       "      <td>7 Mar, 2020 5:00am</td>\n",
       "      <td>Inside a multi-million-dollar, eight-year divo...</td>\n",
       "      <td></td>\n",
       "      <td>Sarah Sparks split from Greg Olliver eight yea...</td>\n",
       "      <td></td>\n",
       "      <td>There always seemed to be plenty, even when he...</td>\n",
       "    </tr>\n",
       "    <tr>\n",
       "      <th>4</th>\n",
       "      <td>https://www.nzherald.co.nz/business/news/artic...</td>\n",
       "      <td>By: Tim Harford</td>\n",
       "      <td>29 Apr, 2020 11:33am</td>\n",
       "      <td>Comment: Why we fail to prepare for disasters</td>\n",
       "      <td></td>\n",
       "      <td>Financial Times: What makes us do nothing in t...</td>\n",
       "      <td>Financial Times</td>\n",
       "      <td>New Orleans's Times-Picayune noted the inadequ...</td>\n",
       "    </tr>\n",
       "  </tbody>\n",
       "</table>\n",
       "</div>"
      ],
      "text/plain": [
       "                                                 url  \\\n",
       "0  https://www.nzherald.co.nz/nz/news/article.cfm...   \n",
       "1  https://www.nzherald.co.nz/business/news/artic...   \n",
       "2  https://www.nzherald.co.nz/business/news/artic...   \n",
       "3  https://www.nzherald.co.nz/business/news/artic...   \n",
       "4  https://www.nzherald.co.nz/business/news/artic...   \n",
       "\n",
       "                                              byline                  date  \\\n",
       "0                                                      2 May, 2020 12:44pm   \n",
       "1                                 By: Keith Bradsher   29 Apr, 2020 9:48am   \n",
       "2                            By: The editorial board  29 Apr, 2020 10:54am   \n",
       "3  By: David Fisher   Senior writer, NZ Herald da...    7 Mar, 2020 5:00am   \n",
       "4                                    By: Tim Harford  29 Apr, 2020 11:33am   \n",
       "\n",
       "                                            headline sponsor  \\\n",
       "0  Six more Covid-19 cases; Chch man dies of coro...           \n",
       "1  Covid 19 coronavirus: China's factories are ba...           \n",
       "2  Covid 19 coronavirus: Antivirus fight takes a ...           \n",
       "3  Inside a multi-million-dollar, eight-year divo...           \n",
       "4      Comment: Why we fail to prepare for disasters           \n",
       "\n",
       "                                           subheader  syndicator_name  \\\n",
       "0  The latest Covid-19 victim will be remembered as         NZ Herald   \n",
       "1  New York Times: Manufacturing giant once again...   New York Times   \n",
       "2  Financial Times: Furlough schemes will not be ...  Financial Times   \n",
       "3  Sarah Sparks split from Greg Olliver eight yea...                    \n",
       "4  Financial Times: What makes us do nothing in t...  Financial Times   \n",
       "\n",
       "                                          paragraphs  \n",
       "0  There are six new cases of Covid-19 today and ...  \n",
       "1  An unemployed young college graduate has stopp...  \n",
       "2  The Black Death is often credited with transfo...  \n",
       "3  There always seemed to be plenty, even when he...  \n",
       "4  New Orleans's Times-Picayune noted the inadequ...  "
      ]
     },
     "execution_count": 24,
     "metadata": {},
     "output_type": "execute_result"
    }
   ],
   "source": [
    "herald_data.head()"
   ]
  },
  {
   "cell_type": "code",
   "execution_count": 42,
   "metadata": {},
   "outputs": [],
   "source": [
    "def contains_letters(text):\n",
    "    for ch in text:\n",
    "        if ch.isalpha():\n",
    "            return True\n",
    "    return False\n",
    "\n",
    "def contains_no_numbers(text):\n",
    "    for ch in text:\n",
    "        if ch.isnumeric():\n",
    "            return False\n",
    "    return True\n",
    "\n",
    "def clean_token(text):\n",
    "    return re.sub('[^A-z\\-]', '', text)\n",
    "\n",
    "def get_māori_words(text):\n",
    "    tokens = []\n",
    "    for token in word_tokenize(text):\n",
    "        cleaned = clean_token(token)\n",
    "        if is_maori(token) and contains_letters(token) and \\\n",
    "           contains_no_numbers(token) and not cleaned.lower() in ambiguous:\n",
    "            tokens.append(token)\n",
    "    return tokens"
   ]
  },
  {
   "cell_type": "code",
   "execution_count": 36,
   "metadata": {},
   "outputs": [
    {
     "name": "stderr",
     "output_type": "stream",
     "text": [
      "100%|██████████| 448k/448k [03:31<00:00, 2.12kit/s]   \n",
      "448084it [00:00, 559280.31it/s]\n"
     ]
    },
    {
     "name": "stdout",
     "output_type": "stream",
     "text": [
      "CPU times: user 1min 59s, sys: 18 s, total: 2min 17s\n",
      "Wall time: 4min 33s\n"
     ]
    }
   ],
   "source": [
    "herald_data['māori_words'] = parallel_process(herald_data.paragraphs, get_māori_words, n_jobs = cpu_count()-1)"
   ]
  },
  {
   "cell_type": "code",
   "execution_count": 48,
   "metadata": {},
   "outputs": [],
   "source": [
    "herald_data.to_csv(\"../data/herald_data.csv\", index = False)"
   ]
  }
 ],
 "metadata": {
  "kernelspec": {
   "display_name": "Python 3",
   "language": "python",
   "name": "python3"
  },
  "language_info": {
   "codemirror_mode": {
    "name": "ipython",
    "version": 3
   },
   "file_extension": ".py",
   "mimetype": "text/x-python",
   "name": "python",
   "nbconvert_exporter": "python",
   "pygments_lexer": "ipython3",
   "version": "3.6.9"
  }
 },
 "nbformat": 4,
 "nbformat_minor": 4
}
